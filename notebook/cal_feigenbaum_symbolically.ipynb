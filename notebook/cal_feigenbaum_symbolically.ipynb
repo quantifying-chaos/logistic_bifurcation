{
 "cells": [
  {
   "cell_type": "markdown",
   "metadata": {},
   "source": [
    "# Calculate Feigenbaum Function Symbolically\n",
    "\n",
    "Feigenbuam funtion is defined as eigenfunction, $g$, with eigenvalue $1$ of the operator \n",
    "$T: T\\psi(x) -\\alpha = -\\alpha  \\psi(\\psi(-x/a))$,\n",
    "while $\\alpha \\approx 2.5028$ is the Feigenbaum constant.\n",
    "\n",
    "Drazin said $g \\approx 1 - 1.52763x^2 + 0.10482x^4 -0.02671x^6$"
   ]
  },
  {
   "cell_type": "code",
   "execution_count": 58,
   "metadata": {},
   "outputs": [],
   "source": [
    "import numpy as np\n",
    "import matplotlib.pyplot as plt\n",
    "import sympy as sp\n",
    "\n",
    "sp.init_printing() \n",
    "\n",
    "\n",
    "a = sp.symbols('a')\n",
    "x = sp.symbols('x')\n",
    "\n",
    "feigenbaum_a = 2.5029\n",
    "\n",
    "drazin_eg = 1 - 1.52763*x**2 + 0.10482*x**4 - 0.02671*x**6 \n",
    "\n",
    "def T(f, x, a_val):\n",
    "    \"\"\"\n",
    "    The T operator defined as Tf(x) = -af(f(-x/a)),\n",
    "\n",
    "    substitue a_val for a in the operator.\n",
    "    \"\"\"\n",
    "    a = sp.symbols('a')\n",
    "    tmp = f.subs(x, -x/a)\n",
    "    tmp = -a*f.subs(x, tmp)\n",
    "    tmp = tmp.subs(a, a_val)\n",
    "    return tmp"
   ]
  },
  {
   "cell_type": "markdown",
   "metadata": {},
   "source": [
    "## Try Drazin's example"
   ]
  },
  {
   "cell_type": "code",
   "execution_count": 63,
   "metadata": {},
   "outputs": [
    {
     "name": "stdout",
     "output_type": "stream",
     "text": [
      "Drazin's solution: \n"
     ]
    },
    {
     "data": {
      "text/latex": [
       "$\\displaystyle g_d=- 0.02671 x^{6} + 0.10482 x^{4} - 1.52763 x^{2} + 1$"
      ],
      "text/plain": [
       "<IPython.core.display.Math object>"
      ]
     },
     "metadata": {},
     "output_type": "display_data"
    },
    {
     "data": {
      "text/latex": [
       "$\\displaystyle T(g_d)=- 0.00916777988054841 x^{6} + 0.212083989203208 x^{4} - 1.70666830924128 x^{2} + 1.125103608$"
      ],
      "text/plain": [
       "<IPython.core.display.Math object>"
      ]
     },
     "metadata": {},
     "output_type": "display_data"
    }
   ],
   "source": [
    "drazin_res = sp.poly(T(drazin_eg, x, feigenbaum_a))\n",
    "drazin_res = rem(drazin_res, x**7, domain=QQ)\n",
    "print(\"Drazin's solution: \")\n",
    "display(Math('g_d=' + latex(drazin_eg)))\n",
    "display(Math('T(g_d)=' + latex(drazin_res.as_expr().n())))"
   ]
  },
  {
   "cell_type": "code",
   "execution_count": 50,
   "metadata": {},
   "outputs": [
    {
     "data": {
      "text/latex": [
       "$\\displaystyle x = y + z$"
      ],
      "text/plain": [
       "<IPython.core.display.Math object>"
      ]
     },
     "metadata": {},
     "output_type": "display_data"
    }
   ],
   "source": [
    "from sympy import *\n",
    "from IPython.display import display, Math\n",
    "\n",
    "init_printing()\n",
    "x, y, z = symbols(\"x y z\")\n",
    "\n",
    "x=y+z\n",
    "display(Math('x = '+latex(x)))"
   ]
  },
  {
   "cell_type": "markdown",
   "metadata": {},
   "source": [
    "## Difficulties of Solving Symbolically\n",
    "\n",
    "### Number of Calculations\n",
    "\n",
    "The seemingly naive operator $T$, is, however, diabolic.\n",
    "\n",
    "Simple countings shows that, only counting multiplications, an input with $n$ terms requires mutiplications of \n",
    "$2\\cdot(n^2 + n^4 + \\cdots + n^{n-1})$\n",
    "times.\n",
    "\n",
    "Calculating 5 terms in taylor expansion (up to $x^6$), requres $2600$ multiplications, thus producing $2601$ terms before simplication.\n",
    "\n",
    "Calculating 10 terms requires $9\\times 10^{9}$ multiplication.\n",
    "\n",
    "Simplifying a polynomials of $n$ terms takes $O(n^2)$ times: it is very innefficient.\n",
    "\n",
    "### Only finite term solution: 0\n",
    "\n",
    "Simply calculation can show that, \n",
    "for function $f = c_0 + c_1x^2 + c_2x^4 + \\cdots$, \n",
    "the equation $Tf =f$, translating into each terms, and ignoring all of the higher order term we get \n",
    "\n",
    "$$\n",
    "c_0 = -\\alpha(c_0 + c_1 c_0^2 + c_1 c_0^4 \\cdots)\n",
    "$$\n",
    "\n",
    "$$\n",
    "c_1 = -\\alpha c_1(2c_0c_1 + 4c_0^3c_2 + 6 c_0^5c_3)\n",
    "$$\n",
    "\n",
    "The solution is, $c_0 = c_1 = 0$"
   ]
  },
  {
   "cell_type": "code",
   "execution_count": null,
   "metadata": {},
   "outputs": [
    {
     "name": "stdout",
     "output_type": "stream",
     "text": [
      "+-----------------------------------+------------------------+\n",
      "|   # of terms in taylar expansions |   # of multiplications |\n",
      "+===================================+========================+\n",
      "|                                 1 |                      0 |\n",
      "+-----------------------------------+------------------------+\n",
      "|                                 2 |                      6 |\n",
      "+-----------------------------------+------------------------+\n",
      "|                                 3 |                     36 |\n",
      "+-----------------------------------+------------------------+\n",
      "|                                 4 |                    240 |\n",
      "+-----------------------------------+------------------------+\n",
      "|                                 5 |                   2600 |\n",
      "+-----------------------------------+------------------------+\n",
      "|                                 6 |                  39060 |\n",
      "+-----------------------------------+------------------------+\n",
      "|                                 7 |                 706188 |\n",
      "+-----------------------------------+------------------------+\n",
      "|                                 8 |               14680512 |\n",
      "+-----------------------------------+------------------------+\n",
      "|                                 9 |              344374416 |\n",
      "+-----------------------------------+------------------------+\n",
      "|                                10 |             9000000900 |\n",
      "+-----------------------------------+------------------------+\n"
     ]
    }
   ],
   "source": [
    "def n_terms(n):\n",
    "    \"\"\"\n",
    "    Assume input is in the Taylor expansion\n",
    "    1 + c_0*x^2 + c_1*x^4 + c_2*x^6 + ... c_n*x^(2n)\n",
    "    Apply the T operator n times\n",
    "\n",
    "    return number of multiplication operations\n",
    "    \"\"\"\n",
    "    if n <= 1:\n",
    "        return 0\n",
    "    \n",
    "    return (n-1)*(n**2+n**(n-1))\n",
    "\n",
    "# print the same thing in table format\n",
    "import tabulate \n",
    "table = []\n",
    "for i in range(1, 11):\n",
    "    tmp = n_terms(i)\n",
    "    table.append([i, tmp])\n",
    "\n",
    "print(tabulate.tabulate(table, headers=['# of terms in taylar expansions', '# of multiplications'], tablefmt='grid'))\n"
   ]
  },
  {
   "cell_type": "markdown",
   "metadata": {},
   "source": [
    "## Brute Force Calculation\n",
    "\n"
   ]
  },
  {
   "cell_type": "code",
   "execution_count": 126,
   "metadata": {},
   "outputs": [
    {
     "data": {
      "text/latex": [
       "$\\displaystyle \\text{Coefficients are }\\left[ \\frac{- 6 c_{0}^{5} c_{3}^{2} - 30 c_{0}^{4} c_{1} c_{2} c_{3} - 20 c_{0}^{3} c_{1}^{3} c_{3} - 4 c_{0}^{3} c_{2} c_{3} - 12 c_{0}^{2} c_{1} c_{2}^{2} - 4 c_{0} c_{1}^{3} c_{2} - 2 c_{0} c_{1} c_{3} - 2 c_{1}^{2} c_{2}}{a^{5}}, \\  \\frac{- 6 c_{0}^{5} c_{2} c_{3} - 15 c_{0}^{4} c_{1}^{2} c_{3} - 4 c_{0}^{3} c_{2}^{2} - 6 c_{0}^{2} c_{1}^{2} c_{2} - 2 c_{0} c_{1} c_{2} - c_{1}^{3}}{a^{3}}, \\  \\frac{- 6 c_{0}^{5} c_{1} c_{3} - 4 c_{0}^{3} c_{1} c_{2} - 2 c_{0} c_{1}^{2}}{a}, \\  - a c_{0}^{6} c_{3} - a c_{0}^{4} c_{2} - a c_{0}^{2} c_{1} - a c_{0}\\right]$"
      ],
      "text/plain": [
       "<IPython.core.display.Math object>"
      ]
     },
     "metadata": {},
     "output_type": "display_data"
    },
    {
     "data": {
      "text/latex": [
       "$\\displaystyle Tf(x)=- a c_{0}^{6} c_{3} - a c_{0}^{4} c_{2} - a c_{0}^{2} c_{1} - a c_{0} - \\frac{6.0 c_{0}^{5} c_{1} c_{3} x^{2}}{a} - \\frac{4.0 c_{0}^{3} c_{1} c_{2} x^{2}}{a} - \\frac{2.0 c_{0} c_{1}^{2} x^{2}}{a} - \\frac{6.0 c_{0}^{5} c_{2} c_{3} x^{4}}{a^{3}} - \\frac{15.0 c_{0}^{4} c_{1}^{2} c_{3} x^{4}}{a^{3}} - \\frac{4.0 c_{0}^{3} c_{2}^{2} x^{4}}{a^{3}} - \\frac{6.0 c_{0}^{2} c_{1}^{2} c_{2} x^{4}}{a^{3}} - \\frac{2.0 c_{0} c_{1} c_{2} x^{4}}{a^{3}} - \\frac{c_{1}^{3} x^{4}}{a^{3}} - \\frac{6.0 c_{0}^{5} c_{3}^{2} x^{6}}{a^{5}} - \\frac{30.0 c_{0}^{4} c_{1} c_{2} c_{3} x^{6}}{a^{5}} - \\frac{20.0 c_{0}^{3} c_{1}^{3} c_{3} x^{6}}{a^{5}} - \\frac{4.0 c_{0}^{3} c_{2} c_{3} x^{6}}{a^{5}} - \\frac{12.0 c_{0}^{2} c_{1} c_{2}^{2} x^{6}}{a^{5}} - \\frac{4.0 c_{0} c_{1}^{3} c_{2} x^{6}}{a^{5}} - \\frac{2.0 c_{0} c_{1} c_{3} x^{6}}{a^{5}} - \\frac{2.0 c_{1}^{2} c_{2} x^{6}}{a^{5}}+ \\cdots$"
      ],
      "text/plain": [
       "<IPython.core.display.Math object>"
      ]
     },
     "metadata": {},
     "output_type": "display_data"
    }
   ],
   "source": [
    "n_terms = 4\n",
    "c_i = sp.symbols('c_:' + str(n_terms))\n",
    "f_var = 0\n",
    "for index, c in enumerate(c_i):\n",
    "    f_var += c*x**(2*index)\n",
    "\n",
    "Tf_var = T(f_var, x, a)\n",
    "Tf_var = sp.poly(Tf_var,x)\n",
    "Tf_var = rem(Tf_var, x**(2*n_terms), domain=sp.QQ)\n",
    "Tf_var = sp.poly(Tf_var,x)\n",
    "coef = Tf_var.coeffs()\n",
    "\n",
    "display(Math(\"\\\\text{Coefficients are }\" + latex(coef)))\n",
    "\n",
    "display(Math('Tf(x)=' + latex(Tf_var.as_expr().n().expand()) + '+ \\\\cdots'))\n",
    "\n",
    "# print('c_i = ', c_i)\n",
    "# sp.solve(coef, c_i, dict=True)"
   ]
  },
  {
   "cell_type": "code",
   "execution_count": null,
   "metadata": {},
   "outputs": [],
   "source": []
  }
 ],
 "metadata": {
  "kernelspec": {
   "display_name": ".venv",
   "language": "python",
   "name": "python3"
  },
  "language_info": {
   "codemirror_mode": {
    "name": "ipython",
    "version": 3
   },
   "file_extension": ".py",
   "mimetype": "text/x-python",
   "name": "python",
   "nbconvert_exporter": "python",
   "pygments_lexer": "ipython3",
   "version": "3.11.9"
  }
 },
 "nbformat": 4,
 "nbformat_minor": 2
}
